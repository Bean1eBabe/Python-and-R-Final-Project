{
  "nbformat": 4,
  "nbformat_minor": 0,
  "metadata": {
    "colab": {
      "provenance": []
    },
    "kernelspec": {
      "name": "python3",
      "display_name": "Python 3"
    },
    "language_info": {
      "name": "python"
    }
  },
  "cells": [
    {
      "cell_type": "code",
      "execution_count": 1,
      "metadata": {
        "id": "tsrvxYxx24fv",
        "colab": {
          "base_uri": "https://localhost:8080/"
        },
        "outputId": "9d8fd3fd-7e21-440f-8412-9a28994d3ecd"
      },
      "outputs": [
        {
          "output_type": "stream",
          "name": "stdout",
          "text": [
            "Mounted at /content/drive\n"
          ]
        }
      ],
      "source": [
        "#Step (2): Loading the dataset into your Python IDE \"loading, reading and exploring the dataset\"\n",
        "import pandas as pd\n",
        "import numpy as np\n",
        "from sklearn.model_selection import train_test_split\n",
        "from sklearn.metrics import accuracy_score, precision_score, recall_score, confusion_matrix\n",
        "\n",
        "from google.colab import drive\n",
        "drive.mount('/content/drive')\n",
        "raw_data = pd.read_csv('/content/drive/My Drive/HI1020/breast-cancer.csv')"
      ]
    },
    {
      "cell_type": "code",
      "source": [
        "# Rishika - Step (3) Data Visualization \"draw three to four types of data visualization to better understand the dataset\""
      ],
      "metadata": {
        "id": "zSJbNizY276U"
      },
      "execution_count": null,
      "outputs": []
    },
    {
      "cell_type": "code",
      "source": [
        "#Step (4) Make dataset avaiable for \"Supervised\" Machine Learning algorithms\n",
        "X = raw_data.values[:, 2:32]\n",
        "y = raw_data.values[:, 1]"
      ],
      "metadata": {
        "id": "yWp8Otg828KT"
      },
      "execution_count": 17,
      "outputs": []
    },
    {
      "cell_type": "code",
      "source": [
        "#Step (5A)  Building and evaluating machine learning predictive models \"build, train, and test two predictive models, using Decision Tree including Accuracy, Precision, and Recall\"\n",
        "from sklearn.tree import DecisionTreeClassifier\n",
        "\n",
        "y_numeric = np.where(y == 'B', 0, 1)\n",
        "random_state = 42\n",
        "print(f\"Random state: {random_state}\")\n",
        "\n",
        "# Split the data into training and testing sets\n",
        "X_train, X_test, y_train, y_test = train_test_split(X, y_numeric, test_size=0.2, shuffle=True, random_state=random_state)\n",
        "\n",
        "# Create a Decision Tree model\n",
        "model = DecisionTreeClassifier(random_state=random_state)\n",
        "model.fit(X_train, y_train)\n",
        "\n",
        "# Make predictions on the test set\n",
        "y_pred = model.predict(X_test)\n",
        "\n",
        "# Calculate accuracy, precision, and recall\n",
        "dt_accuracy = accuracy_score(y_test, y_pred)\n",
        "dt_precision = precision_score(y_test, y_pred)\n",
        "dt_recall = recall_score(y_test, y_pred)\n",
        "\n",
        "# Display the confusion matrix\n",
        "conf_matrix = confusion_matrix(y_test, y_pred)\n",
        "\n",
        "print(f\"Accuracy: {dt_accuracy:.4f}\")\n",
        "print(f\"Precision: {dt_precision:.4f}\")\n",
        "print(f\"Recall: {dt_recall:.4f}\")\n",
        "print(\"\\nConfusion Matrix:\")\n",
        "print(conf_matrix)"
      ],
      "metadata": {
        "colab": {
          "base_uri": "https://localhost:8080/"
        },
        "id": "5Lba2WOa28dK",
        "outputId": "7ff2099c-b040-4904-aea7-da406ec1e0e2"
      },
      "execution_count": 127,
      "outputs": [
        {
          "output_type": "stream",
          "name": "stdout",
          "text": [
            "Random state: 42\n",
            "Accuracy: 0.9474\n",
            "Precision: 0.9302\n",
            "Recall: 0.9302\n",
            "\n",
            "Confusion Matrix:\n",
            "[[68  3]\n",
            " [ 3 40]]\n"
          ]
        }
      ]
    },
    {
      "cell_type": "code",
      "source": [
        "#Step (5B) Building and evaluating machine learning predictive models \"build, train, and test two predictive models, using Naïve Bayes including Accuracy, Precision, and Recall.\"\n",
        "from sklearn.naive_bayes import GaussianNB\n",
        "\n",
        "# Convert labels to numerical values (0 and 1)\n",
        "y_numeric = np.where(y == 'B', 0, 1)\n",
        "random_state = 42\n",
        "print(f\"Random state: {random_state}\")\n",
        "\n",
        "# Split the data into training and testing sets\n",
        "X_train, X_test, y_train, y_test = train_test_split(X, y_numeric, test_size=0.2, shuffle=True, random_state=random_state)\n",
        "\n",
        "\n",
        "# Create a Gaussian Naive Bayes model\n",
        "model = GaussianNB()\n",
        "model.fit(X_train, y_train)\n",
        "\n",
        "# Make predictions on the test set\n",
        "y_pred = model.predict(X_test)\n",
        "\n",
        "# Calculate accuracy, precision, and recall\n",
        "nb_accuracy = accuracy_score(y_test, y_pred)\n",
        "nb_precision = precision_score(y_test, y_pred)\n",
        "nb_recall = recall_score(y_test, y_pred)\n",
        "\n",
        "# Display the confusion matrix\n",
        "conf_matrix = confusion_matrix(y_test, y_pred)\n",
        "\n",
        "print(f\"Accuracy: {nb_accuracy:.4f}\")\n",
        "print(f\"Precision: {nb_precision:.4f}\")\n",
        "print(f\"Recall: {nb_recall:.4f}\")\n",
        "print(\"\\nConfusion Matrix:\")\n",
        "print(conf_matrix)\n"
      ],
      "metadata": {
        "colab": {
          "base_uri": "https://localhost:8080/"
        },
        "id": "gsC5MNxz28w6",
        "outputId": "d35799dd-8c4f-49eb-cca0-b207823de201"
      },
      "execution_count": 119,
      "outputs": [
        {
          "output_type": "stream",
          "name": "stdout",
          "text": [
            "Random state: 42\n",
            "Accuracy: 0.9737\n",
            "Precision: 1.0000\n",
            "Recall: 0.9302\n",
            "\n",
            "Confusion Matrix:\n",
            "[[71  0]\n",
            " [ 3 40]]\n"
          ]
        }
      ]
    },
    {
      "cell_type": "code",
      "source": [
        "#Step (6): Comparing the predictive models you built using Decision Tree and Naïve Bayes \"You need to compare the accuracy performance of your Decision Tree model with the Naïve Bayes model\"\n",
        "print(f\"Decision Tree Accuracy: {dt_accuracy:.4f}\")\n",
        "print(f\"Naive Bayes Accuracy: {nb_accuracy:.4f}\")\n",
        "\n",
        "# Compare accuracy improvement (if any)\n",
        "accuracy_improvement = nb_accuracy - dt_accuracy\n",
        "print(f\"\\nAccuracy Improvement (Naive Bayes - Decision Tree): {accuracy_improvement:.4f}\")"
      ],
      "metadata": {
        "colab": {
          "base_uri": "https://localhost:8080/"
        },
        "id": "70mtNSPt39Ml",
        "outputId": "12479558-a47a-40b8-8148-f1c0ba9594e9"
      },
      "execution_count": 123,
      "outputs": [
        {
          "output_type": "stream",
          "name": "stdout",
          "text": [
            "Decision Tree Accuracy: 0.9825\n",
            "Naive Bayes Accuracy: 0.9737\n",
            "\n",
            "Accuracy Improvement (Naive Bayes - Decision Tree): -0.0088\n"
          ]
        }
      ]
    }
  ]
}